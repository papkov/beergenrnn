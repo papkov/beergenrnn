{
 "cells": [
  {
   "cell_type": "code",
   "execution_count": 1,
   "metadata": {},
   "outputs": [],
   "source": [
    "import os\n",
    "import sys\n",
    "\n",
    "import torch\n",
    "from torch.utils.data import DataLoader\n",
    "from tqdm.auto import tqdm, trange\n",
    "from typing import List\n",
    "from pathlib import Path\n",
    "import xml.etree.ElementTree as ET\n",
    "\n",
    "import numpy as np\n",
    "import pandas as pd"
   ]
  },
  {
   "cell_type": "code",
   "execution_count": 2,
   "metadata": {},
   "outputs": [],
   "source": [
    "import seaborn as sns\n",
    "import matplotlib.pyplot as plt"
   ]
  },
  {
   "cell_type": "code",
   "execution_count": 3,
   "metadata": {},
   "outputs": [],
   "source": [
    "sys.path.append('..')\n",
    "from importlib import reload\n",
    "from beergenrnn import beerxml, dataset, model"
   ]
  },
  {
   "cell_type": "code",
   "execution_count": 4,
   "metadata": {},
   "outputs": [
    {
     "name": "stdout",
     "output_type": "stream",
     "text": [
      "Load existing dicts from ..\\data\\brewersfriend\\dicts.json\n"
     ]
    }
   ],
   "source": [
    "reload(dataset)\n",
    "ds = dataset.RecipeDataset(\n",
    "    path='../data/brewersfriend/'\n",
    ")\n",
    "dl = DataLoader(ds, batch_size=16, shuffle=True)"
   ]
  },
  {
   "cell_type": "code",
   "execution_count": 5,
   "metadata": {},
   "outputs": [
    {
     "data": {
      "text/plain": [
       "{'hops_name': 1342,\n",
       " 'hops_use': 8,\n",
       " 'fermentables_name': 2276,\n",
       " 'yeasts_name': 1010,\n",
       " 'style_name': 181,\n",
       " 'style_category': 58}"
      ]
     },
     "execution_count": 5,
     "metadata": {},
     "output_type": "execute_result"
    }
   ],
   "source": [
    "{k: len(v) for k, v in ds.dicts.items()}"
   ]
  },
  {
   "cell_type": "code",
   "execution_count": 347,
   "metadata": {},
   "outputs": [
    {
     "data": {
      "text/plain": [
       "{'hops_name': 61,\n",
       " 'hops_use': 6,\n",
       " 'fermentables_name': 56,\n",
       " 'yeasts_name': 24,\n",
       " 'style_name': 58,\n",
       " 'style_category': 58}"
      ]
     },
     "execution_count": 347,
     "metadata": {},
     "output_type": "execute_result"
    }
   ],
   "source": [
    "{k: len(v) for k, v in ds.dicts.items()}"
   ]
  },
  {
   "cell_type": "code",
   "execution_count": 6,
   "metadata": {},
   "outputs": [
    {
     "data": {
      "text/plain": [
       "RecipeModel(\n",
       "  (style_model): Sequential(\n",
       "    (0): Embedding(184, 32)\n",
       "    (1): Linear(in_features=32, out_features=128, bias=True)\n",
       "    (2): Tanh()\n",
       "  )\n",
       "  (fermentables_model): Model(\n",
       "    (emb): Embedding(2276, 32, padding_idx=0)\n",
       "    (rnn): LSTM(32, 128, batch_first=True)\n",
       "    (heads): Heads(\n",
       "      (fcs): ModuleList(\n",
       "        (0): Sequential(\n",
       "          (0): Dropout(p=0.5, inplace=False)\n",
       "          (1): Linear(in_features=128, out_features=2276, bias=True)\n",
       "        )\n",
       "        (1): Sequential(\n",
       "          (0): Dropout(p=0.5, inplace=False)\n",
       "          (1): Linear(in_features=128, out_features=1, bias=True)\n",
       "        )\n",
       "      )\n",
       "    )\n",
       "  )\n",
       "  (hops_model): Model(\n",
       "    (emb): Embedding(1342, 32, padding_idx=0)\n",
       "    (rnn): LSTM(32, 128, batch_first=True)\n",
       "    (heads): Heads(\n",
       "      (fcs): ModuleList(\n",
       "        (0): Sequential(\n",
       "          (0): Dropout(p=0.5, inplace=False)\n",
       "          (1): Linear(in_features=128, out_features=1342, bias=True)\n",
       "        )\n",
       "        (1): Sequential(\n",
       "          (0): Dropout(p=0.5, inplace=False)\n",
       "          (1): Linear(in_features=128, out_features=8, bias=True)\n",
       "        )\n",
       "        (2): Sequential(\n",
       "          (0): Dropout(p=0.5, inplace=False)\n",
       "          (1): Linear(in_features=128, out_features=1, bias=True)\n",
       "        )\n",
       "        (3): Sequential(\n",
       "          (0): Dropout(p=0.5, inplace=False)\n",
       "          (1): Linear(in_features=128, out_features=1, bias=True)\n",
       "        )\n",
       "      )\n",
       "    )\n",
       "  )\n",
       "  (yeast_model): Model(\n",
       "    (emb): Embedding(1010, 32, padding_idx=0)\n",
       "    (rnn): LSTM(32, 128, batch_first=True)\n",
       "    (heads): Heads(\n",
       "      (fcs): ModuleList(\n",
       "        (0): Sequential(\n",
       "          (0): Dropout(p=0.5, inplace=False)\n",
       "          (1): Linear(in_features=128, out_features=1010, bias=True)\n",
       "        )\n",
       "      )\n",
       "    )\n",
       "  )\n",
       ")"
      ]
     },
     "execution_count": 6,
     "metadata": {},
     "output_type": "execute_result"
    }
   ],
   "source": [
    "reload(model)\n",
    "mdl = model.RecipeModel(n_fermentables=len(ds.dicts['fermentables_name']),\n",
    "                       n_hops=len(ds.dicts['hops_name']),\n",
    "                        n_hops_uses=len(ds.dicts['hops_use']),\n",
    "                       n_yeasts=len(ds.dicts['yeasts_name']),\n",
    "                       n_styles=len(ds.dicts['style_name'])+3)\n",
    "trainer = model.Trainer(mdl, name='bf', device='cuda')\n",
    "mdl"
   ]
  },
  {
   "cell_type": "code",
   "execution_count": null,
   "metadata": {},
   "outputs": [
    {
     "data": {
      "application/vnd.jupyter.widget-view+json": {
       "model_id": "22e7114779274148b8e868f60300a5d4",
       "version_major": 2,
       "version_minor": 0
      },
      "text/plain": [
       "HBox(children=(HTML(value=''), FloatProgress(value=0.0, max=200.0), HTML(value='')))"
      ]
     },
     "metadata": {},
     "output_type": "display_data"
    },
    {
     "data": {
      "application/vnd.jupyter.widget-view+json": {
       "model_id": "",
       "version_major": 2,
       "version_minor": 0
      },
      "text/plain": [
       "HBox(children=(HTML(value='ep. 0000'), FloatProgress(value=0.0, max=1507.0), HTML(value='')))"
      ]
     },
     "metadata": {},
     "output_type": "display_data"
    },
    {
     "name": "stderr",
     "output_type": "stream",
     "text": [
      "C:\\Users\\papkov\\Anaconda3\\envs\\ml\\lib\\site-packages\\torch\\nn\\modules\\loss.py:445: UserWarning: Using a target size (torch.Size([1, 15])) that is different to the input size (torch.Size([15])). This will likely lead to incorrect results due to broadcasting. Please ensure they have the same size.\n",
      "  return F.mse_loss(input, target, reduction=self.reduction)\n"
     ]
    },
    {
     "data": {
      "application/vnd.jupyter.widget-view+json": {
       "model_id": "",
       "version_major": 2,
       "version_minor": 0
      },
      "text/plain": [
       "HBox(children=(HTML(value='ep. 0001'), FloatProgress(value=0.0, max=1507.0), HTML(value='')))"
      ]
     },
     "metadata": {},
     "output_type": "display_data"
    },
    {
     "data": {
      "application/vnd.jupyter.widget-view+json": {
       "model_id": "",
       "version_major": 2,
       "version_minor": 0
      },
      "text/plain": [
       "HBox(children=(HTML(value='ep. 0002'), FloatProgress(value=0.0, max=1507.0), HTML(value='')))"
      ]
     },
     "metadata": {},
     "output_type": "display_data"
    },
    {
     "data": {
      "application/vnd.jupyter.widget-view+json": {
       "model_id": "",
       "version_major": 2,
       "version_minor": 0
      },
      "text/plain": [
       "HBox(children=(HTML(value='ep. 0003'), FloatProgress(value=0.0, max=1507.0), HTML(value='')))"
      ]
     },
     "metadata": {},
     "output_type": "display_data"
    },
    {
     "data": {
      "application/vnd.jupyter.widget-view+json": {
       "model_id": "",
       "version_major": 2,
       "version_minor": 0
      },
      "text/plain": [
       "HBox(children=(HTML(value='ep. 0004'), FloatProgress(value=0.0, max=1507.0), HTML(value='')))"
      ]
     },
     "metadata": {},
     "output_type": "display_data"
    },
    {
     "data": {
      "application/vnd.jupyter.widget-view+json": {
       "model_id": "",
       "version_major": 2,
       "version_minor": 0
      },
      "text/plain": [
       "HBox(children=(HTML(value='ep. 0005'), FloatProgress(value=0.0, max=1507.0), HTML(value='')))"
      ]
     },
     "metadata": {},
     "output_type": "display_data"
    },
    {
     "data": {
      "application/vnd.jupyter.widget-view+json": {
       "model_id": "",
       "version_major": 2,
       "version_minor": 0
      },
      "text/plain": [
       "HBox(children=(HTML(value='ep. 0006'), FloatProgress(value=0.0, max=1507.0), HTML(value='')))"
      ]
     },
     "metadata": {},
     "output_type": "display_data"
    },
    {
     "data": {
      "application/vnd.jupyter.widget-view+json": {
       "model_id": "",
       "version_major": 2,
       "version_minor": 0
      },
      "text/plain": [
       "HBox(children=(HTML(value='ep. 0007'), FloatProgress(value=0.0, max=1507.0), HTML(value='')))"
      ]
     },
     "metadata": {},
     "output_type": "display_data"
    },
    {
     "data": {
      "application/vnd.jupyter.widget-view+json": {
       "model_id": "",
       "version_major": 2,
       "version_minor": 0
      },
      "text/plain": [
       "HBox(children=(HTML(value='ep. 0008'), FloatProgress(value=0.0, max=1507.0), HTML(value='')))"
      ]
     },
     "metadata": {},
     "output_type": "display_data"
    },
    {
     "data": {
      "application/vnd.jupyter.widget-view+json": {
       "model_id": "",
       "version_major": 2,
       "version_minor": 0
      },
      "text/plain": [
       "HBox(children=(HTML(value='ep. 0009'), FloatProgress(value=0.0, max=1507.0), HTML(value='')))"
      ]
     },
     "metadata": {},
     "output_type": "display_data"
    },
    {
     "data": {
      "application/vnd.jupyter.widget-view+json": {
       "model_id": "",
       "version_major": 2,
       "version_minor": 0
      },
      "text/plain": [
       "HBox(children=(HTML(value='ep. 0010'), FloatProgress(value=0.0, max=1507.0), HTML(value='')))"
      ]
     },
     "metadata": {},
     "output_type": "display_data"
    },
    {
     "data": {
      "application/vnd.jupyter.widget-view+json": {
       "model_id": "",
       "version_major": 2,
       "version_minor": 0
      },
      "text/plain": [
       "HBox(children=(HTML(value='ep. 0011'), FloatProgress(value=0.0, max=1507.0), HTML(value='')))"
      ]
     },
     "metadata": {},
     "output_type": "display_data"
    },
    {
     "data": {
      "application/vnd.jupyter.widget-view+json": {
       "model_id": "",
       "version_major": 2,
       "version_minor": 0
      },
      "text/plain": [
       "HBox(children=(HTML(value='ep. 0012'), FloatProgress(value=0.0, max=1507.0), HTML(value='')))"
      ]
     },
     "metadata": {},
     "output_type": "display_data"
    },
    {
     "data": {
      "application/vnd.jupyter.widget-view+json": {
       "model_id": "",
       "version_major": 2,
       "version_minor": 0
      },
      "text/plain": [
       "HBox(children=(HTML(value='ep. 0013'), FloatProgress(value=0.0, max=1507.0), HTML(value='')))"
      ]
     },
     "metadata": {},
     "output_type": "display_data"
    },
    {
     "data": {
      "application/vnd.jupyter.widget-view+json": {
       "model_id": "",
       "version_major": 2,
       "version_minor": 0
      },
      "text/plain": [
       "HBox(children=(HTML(value='ep. 0014'), FloatProgress(value=0.0, max=1507.0), HTML(value='')))"
      ]
     },
     "metadata": {},
     "output_type": "display_data"
    },
    {
     "data": {
      "application/vnd.jupyter.widget-view+json": {
       "model_id": "",
       "version_major": 2,
       "version_minor": 0
      },
      "text/plain": [
       "HBox(children=(HTML(value='ep. 0015'), FloatProgress(value=0.0, max=1507.0), HTML(value='')))"
      ]
     },
     "metadata": {},
     "output_type": "display_data"
    },
    {
     "data": {
      "application/vnd.jupyter.widget-view+json": {
       "model_id": "",
       "version_major": 2,
       "version_minor": 0
      },
      "text/plain": [
       "HBox(children=(HTML(value='ep. 0016'), FloatProgress(value=0.0, max=1507.0), HTML(value='')))"
      ]
     },
     "metadata": {},
     "output_type": "display_data"
    },
    {
     "data": {
      "application/vnd.jupyter.widget-view+json": {
       "model_id": "",
       "version_major": 2,
       "version_minor": 0
      },
      "text/plain": [
       "HBox(children=(HTML(value='ep. 0017'), FloatProgress(value=0.0, max=1507.0), HTML(value='')))"
      ]
     },
     "metadata": {},
     "output_type": "display_data"
    },
    {
     "data": {
      "application/vnd.jupyter.widget-view+json": {
       "model_id": "",
       "version_major": 2,
       "version_minor": 0
      },
      "text/plain": [
       "HBox(children=(HTML(value='ep. 0018'), FloatProgress(value=0.0, max=1507.0), HTML(value='')))"
      ]
     },
     "metadata": {},
     "output_type": "display_data"
    },
    {
     "data": {
      "application/vnd.jupyter.widget-view+json": {
       "model_id": "",
       "version_major": 2,
       "version_minor": 0
      },
      "text/plain": [
       "HBox(children=(HTML(value='ep. 0019'), FloatProgress(value=0.0, max=1507.0), HTML(value='')))"
      ]
     },
     "metadata": {},
     "output_type": "display_data"
    },
    {
     "data": {
      "application/vnd.jupyter.widget-view+json": {
       "model_id": "",
       "version_major": 2,
       "version_minor": 0
      },
      "text/plain": [
       "HBox(children=(HTML(value='ep. 0020'), FloatProgress(value=0.0, max=1507.0), HTML(value='')))"
      ]
     },
     "metadata": {},
     "output_type": "display_data"
    },
    {
     "data": {
      "application/vnd.jupyter.widget-view+json": {
       "model_id": "",
       "version_major": 2,
       "version_minor": 0
      },
      "text/plain": [
       "HBox(children=(HTML(value='ep. 0021'), FloatProgress(value=0.0, max=1507.0), HTML(value='')))"
      ]
     },
     "metadata": {},
     "output_type": "display_data"
    },
    {
     "data": {
      "application/vnd.jupyter.widget-view+json": {
       "model_id": "6c6fbd12e11343fb8be73bd5ea5ee090",
       "version_major": 2,
       "version_minor": 0
      },
      "text/plain": [
       "HBox(children=(HTML(value='ep. 0022'), FloatProgress(value=0.0, max=1507.0), HTML(value='')))"
      ]
     },
     "metadata": {},
     "output_type": "display_data"
    }
   ],
   "source": [
    "loss = trainer.fit(200, dl)"
   ]
  },
  {
   "cell_type": "code",
   "execution_count": 270,
   "metadata": {},
   "outputs": [
    {
     "data": {
      "image/png": "[encoded data removed]",
      "text/plain": [
       "<Figure size 720x648 with 9 Axes>"
      ]
     },
     "metadata": {
      "needs_background": "light"
     },
     "output_type": "display_data"
    }
   ],
   "source": [
    "fig, axes = plt.subplots(ncols=3, nrows=3, figsize=(10,9))\n",
    "for (loss_name, history), ax in zip(loss.items(), axes.flat):\n",
    "    ax.plot(np.arange(len(history)), history)\n",
    "    ax.set_title(loss_name)\n",
    "\n",
    "plt.tight_layout()\n",
    "plt.show()"
   ]
  },
  {
   "cell_type": "code",
   "execution_count": 36,
   "metadata": {},
   "outputs": [
    {
     "data": {
      "text/plain": [
       "<All keys matched successfully>"
      ]
     },
     "execution_count": 36,
     "metadata": {},
     "output_type": "execute_result"
    }
   ],
   "source": [
    "mdl.load_state_dict(torch.load('../checkpoints/test.pth'))"
   ]
  },
  {
   "cell_type": "code",
   "execution_count": 26,
   "metadata": {},
   "outputs": [],
   "source": [
    "def decode_predictions(generated, dicts, style, batch_size=20):\n",
    "    reversed_dicts = {n: {v: k for k, v in d.items()} for n, d in dicts.items()}\n",
    "    print(f'Generate style {reversed_dicts[\"style_name\"][style]}, batch size {batch_size} liters')\n",
    "    generated = {k: [reversed_dicts[k][i] for i in v] if k in reversed_dicts else list(v) for k, v in generated.items()}\n",
    "    \n",
    "    generated['hops_amount'] = [round(v * batch_size) for v in generated['hops_amount']]\n",
    "    generated['fermentables_amount'] = [round(v * batch_size, 2) for v in generated['fermentables_amount']]\n",
    "    generated['hops_time'] = [int(v * 60) for v in generated['hops_time']]\n",
    "    return generated"
   ]
  },
  {
   "cell_type": "code",
   "execution_count": 256,
   "metadata": {
    "scrolled": true
   },
   "outputs": [
    {
     "data": {
      "text/plain": [
       "{'Altbier': 3,\n",
       " 'American Ale': 4,\n",
       " 'American Amber Ale': 5,\n",
       " 'Barley Wine': 6,\n",
       " 'Belgian Ale': 7,\n",
       " 'Belgian Blonde': 8,\n",
       " 'Belgian Strong Ale': 9,\n",
       " 'Berliner Weisse': 10,\n",
       " 'Bitter': 11,\n",
       " 'Black Barley Wine': 12,\n",
       " 'Black IPA': 13,\n",
       " 'Black Lager': 14,\n",
       " 'Blonde Imperial Stout': 15,\n",
       " 'Braggot': 16,\n",
       " 'Breakfast Stout': 17,\n",
       " 'Brown Ale': 18,\n",
       " 'Cask Ale': 19,\n",
       " 'Double IPA': 20,\n",
       " 'Eisbock': 21,\n",
       " 'Fruit Beer': 22,\n",
       " 'German Hefeweizen': 23,\n",
       " 'Gose': 24,\n",
       " 'IPA': 25,\n",
       " 'Imperial Ale': 26,\n",
       " 'Imperial Black IPA': 27,\n",
       " 'Imperial Brown Ale': 28,\n",
       " 'Imperial IPA': 29,\n",
       " 'Imperial Pilsner': 30,\n",
       " 'Imperial Porter': 31,\n",
       " 'Imperial Red Ale': 32,\n",
       " 'Imperial Smoked Porter': 33,\n",
       " 'Imperial Stout': 34,\n",
       " 'Imperial Weizenbock': 35,\n",
       " 'Imperial Wheat': 36,\n",
       " 'International Pale Lager': 37,\n",
       " 'Irish Stout': 38,\n",
       " 'KÃ¶lsch': 39,\n",
       " 'Lager': 40,\n",
       " 'Low Alcohol': 41,\n",
       " 'Milk Stout': 42,\n",
       " 'Pale Ale': 43,\n",
       " 'Pilsner': 44,\n",
       " 'Porter': 45,\n",
       " 'Quadrupel': 46,\n",
       " 'Quadruple IPA': 47,\n",
       " 'Red Ale': 48,\n",
       " 'Rye Ale': 49,\n",
       " 'Rye IPA': 50,\n",
       " 'Rye Pale Ale': 51,\n",
       " 'Saison': 52,\n",
       " 'Scotch Ale': 53,\n",
       " 'Smoked Porter': 54,\n",
       " 'Sour': 55,\n",
       " 'Strong Ale': 56,\n",
       " 'Tripel': 57,\n",
       " 'Triple IPA': 58,\n",
       " 'Wheat': 59,\n",
       " 'Wheat Stout': 60}"
      ]
     },
     "execution_count": 256,
     "metadata": {},
     "output_type": "execute_result"
    }
   ],
   "source": [
    "ds.dicts['style_name']"
   ]
  },
  {
   "cell_type": "code",
   "execution_count": 300,
   "metadata": {},
   "outputs": [
    {
     "name": "stdout",
     "output_type": "stream",
     "text": [
      "Generate style Wheat Stout, batch size 20 liters\n"
     ]
    },
    {
     "data": {
      "text/plain": [
       "{'fermentables_name': ['Extra Pale Spring Blend',\n",
       "  'Caramalt',\n",
       "  'Crystal 150',\n",
       "  'Chocolate',\n",
       "  'Roasted Barley',\n",
       "  'Wheat'],\n",
       " 'fermentables_amount': [4.13, 1.05, 0.54, 0.48, 0.16, 0.1],\n",
       " 'hops_name': ['Chinook', 'Centennial', 'Chinook'],\n",
       " 'hops_amount': [18, 13, 6],\n",
       " 'hops_time': [28, 10, 5],\n",
       " 'hops_use': ['Boil', 'Boil', 'Boil'],\n",
       " 'yeasts_name': ['Wyeast 1056 - American Ale']}"
      ]
     },
     "execution_count": 300,
     "metadata": {},
     "output_type": "execute_result"
    }
   ],
   "source": [
    "style = 60\n",
    "generated = mdl.generate(style, deterministic=True)\n",
    "decode_predictions(generated, ds.dicts, style)"
   ]
  },
  {
   "cell_type": "code",
   "execution_count": 42,
   "metadata": {},
   "outputs": [
    {
     "name": "stdout",
     "output_type": "stream",
     "text": [
      "Generate style barley wine, batch size 20 liters\n"
     ]
    },
    {
     "data": {
      "text/plain": [
       "{'fermentables_name': ['extra pale', 'caramalt', 'dark crystal', 'munich'],\n",
       " 'fermentables_amount': [5.68, 0.77, 0.35, 0.49],\n",
       " 'hops_name': [],\n",
       " 'hops_amount': [],\n",
       " 'hops_time': [],\n",
       " 'hops_use': [],\n",
       " 'yeasts_name': ['<start>']}"
      ]
     },
     "execution_count": 42,
     "metadata": {},
     "output_type": "execute_result"
    }
   ],
   "source": [
    "style = 6\n",
    "generated = mdl.generate(style, deterministic=True, device='cuda')\n",
    "decode_predictions(generated, ds.dicts, style)"
   ]
  },
  {
   "cell_type": "markdown",
   "metadata": {},
   "source": [
    "Style embeddings"
   ]
  },
  {
   "cell_type": "code",
   "execution_count": 161,
   "metadata": {},
   "outputs": [
    {
     "data": {
      "text/plain": [
       "(128, 32)"
      ]
     },
     "execution_count": 161,
     "metadata": {},
     "output_type": "execute_result"
    }
   ],
   "source": [
    "style_emb = mdl.style_model[0].weight.detach().numpy()\n",
    "style_emb.shape"
   ]
  },
  {
   "cell_type": "code",
   "execution_count": 167,
   "metadata": {},
   "outputs": [],
   "source": [
    "from sklearn.decomposition import PCA\n",
    "from sklearn.manifold import TSNE"
   ]
  },
  {
   "cell_type": "code",
   "execution_count": 181,
   "metadata": {},
   "outputs": [
    {
     "data": {
      "text/plain": [
       "(58, 2)"
      ]
     },
     "execution_count": 181,
     "metadata": {},
     "output_type": "execute_result"
    }
   ],
   "source": [
    "man = TSNE(n_components=2, perplexity=4)\n",
    "pc = man.fit_transform(style_emb[3:61])\n",
    "pc.shape"
   ]
  },
  {
   "cell_type": "code",
   "execution_count": 182,
   "metadata": {},
   "outputs": [
    {
     "data": {
      "text/plain": [
       "[<matplotlib.lines.Line2D at 0x2af26867a08>]"
      ]
     },
     "execution_count": 182,
     "metadata": {},
     "output_type": "execute_result"
    },
    {
     "data": {
      "image/png": "[encoded data removed]",
      "text/plain": [
       "<Figure size 432x288 with 1 Axes>"
      ]
     },
     "metadata": {
      "needs_background": "light"
     },
     "output_type": "display_data"
    }
   ],
   "source": [
    "plt.plot(pc[:,0], pc[:,1], 'b.')"
   ]
  }
 ],
 "metadata": {
  "kernelspec": {
   "display_name": "ml",
   "language": "python",
   "name": "ml"
  },
  "language_info": {
   "codemirror_mode": {
    "name": "ipython",
    "version": 3
   },
   "file_extension": ".py",
   "mimetype": "text/x-python",
   "name": "python",
   "nbconvert_exporter": "python",
   "pygments_lexer": "ipython3",
   "version": "3.7.8"
  }
 },
 "nbformat": 4,
 "nbformat_minor": 4
}
